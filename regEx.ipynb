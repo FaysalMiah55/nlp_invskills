{
 "cells": [
  {
   "cell_type": "markdown",
   "metadata": {},
   "source": [
    "# RegEx"
   ]
  },
  {
   "cell_type": "markdown",
   "metadata": {},
   "source": [
    "## Collect Phone Number"
   ]
  },
  {
   "cell_type": "code",
   "execution_count": null,
   "metadata": {},
   "outputs": [
    {
     "name": "stdout",
     "output_type": "stream",
     "text": [
      "['+880 1610824252', '+880-1712345678']\n"
     ]
    }
   ],
   "source": [
    "import re\n",
    "\n",
    "def collect_bd_phone_numbers(text):\n",
    "    # Define a regex pattern for BD phone numbers in the format +880 1XXXXXXXXX\n",
    "    phone_pattern = re.compile(r'\\+880[-\\s]1[3-9]\\d{8}')\n",
    "    # Find all phone numbers in the input text\n",
    "    phone_numbers = phone_pattern.findall(text)\n",
    "    # Return the list of phone numbers\n",
    "    return phone_numbers\n",
    "\n",
    "sample_text = \"Here are two numbers: +880 1610824252, 01716224625 and +880-1712345678.\"\n",
    "phone_numbers = collect_bd_phone_numbers(sample_text)\n",
    "print(phone_numbers)"
   ]
  },
  {
   "cell_type": "code",
   "execution_count": null,
   "metadata": {},
   "outputs": [
    {
     "name": "stdout",
     "output_type": "stream",
     "text": [
      "['+880 1610824252', '01716224625', '+880-1712345678']\n"
     ]
    }
   ],
   "source": [
    "import re\n",
    "\n",
    "def collect_bd_phone_numbers(text):\n",
    "    # Define a regex pattern for BD phone numbers, with or without +880 country code\n",
    "    phone_pattern = re.compile(r'(\\+880[-\\s]?1[3-9]\\d{8}|01[3-9]\\d{8})')\n",
    "    # Find all phone numbers in the input text\n",
    "    phone_numbers = phone_pattern.findall(text)\n",
    "    # Return the list of phone numbers\n",
    "    return phone_numbers\n",
    "\n",
    "sample_text = \"Here are two numbers: +880 1610824252, 01716224625, and +880-1712345678.\"\n",
    "phone_numbers = collect_bd_phone_numbers(sample_text)\n",
    "print(phone_numbers)"
   ]
  },
  {
   "cell_type": "markdown",
   "metadata": {},
   "source": [
    "## Collect Mail ID"
   ]
  },
  {
   "cell_type": "code",
   "execution_count": 5,
   "metadata": {},
   "outputs": [
    {
     "name": "stdout",
     "output_type": "stream",
     "text": [
      "['example1@gmail.com', 'support@domain.co']\n"
     ]
    }
   ],
   "source": [
    "import re\n",
    "\n",
    "def collect_emails(text):\n",
    "    # Define a regex pattern for email addresses\n",
    "    email_pattern = re.compile(r'[a-zA-Z0-9._%+-]+@[a-zA-Z0-9.-]+\\.[a-zA-Z]{2,}')\n",
    "    \n",
    "    # Find all email addresses in the input text\n",
    "    emails = email_pattern.findall(text)\n",
    "    \n",
    "    # Return the list of email addresses\n",
    "    return emails\n",
    "\n",
    "# Example usage\n",
    "sample_text = \"You can contact me at example1@gmail.com or support@domain.co.\"\n",
    "emails = collect_emails(sample_text)\n",
    "print(emails)\n"
   ]
  },
  {
   "cell_type": "markdown",
   "metadata": {},
   "source": [
    "## Remove HTML Tag"
   ]
  },
  {
   "cell_type": "code",
   "execution_count": 1,
   "metadata": {},
   "outputs": [
    {
     "data": {
      "text/plain": [
       "\"Hello world!I'm a developer\""
      ]
     },
     "execution_count": 1,
     "metadata": {},
     "output_type": "execute_result"
    }
   ],
   "source": [
    "# html tag remove\n",
    "import re\n",
    "def removeHTMLTag(text):\n",
    "    pattern = re.compile('<.*?>')\n",
    "    return pattern.sub(r'', text)\n",
    "\n",
    "text = \"<html><div><h2>Hello world!</h2><p>I'm a developer</p></div></html>\"\n",
    "removeHTMLTag(text)"
   ]
  },
  {
   "cell_type": "markdown",
   "metadata": {},
   "source": [
    "## Remove URL"
   ]
  },
  {
   "cell_type": "code",
   "execution_count": 2,
   "metadata": {},
   "outputs": [
    {
     "data": {
      "text/plain": [
       "'Check out my portfolio '"
      ]
     },
     "execution_count": 2,
     "metadata": {},
     "output_type": "execute_result"
    }
   ],
   "source": [
    "def removeURL(url):\n",
    "    pattern = re.compile(r'https?://\\S+|www\\.\\S+')\n",
    "    return pattern.sub(r'', url)\n",
    "\n",
    "url = 'Check out my portfolio https://www.portfolio-faysal'\n",
    "removeURL(url)"
   ]
  },
  {
   "cell_type": "code",
   "execution_count": null,
   "metadata": {},
   "outputs": [],
   "source": []
  }
 ],
 "metadata": {
  "kernelspec": {
   "display_name": "myenv",
   "language": "python",
   "name": "python3"
  },
  "language_info": {
   "codemirror_mode": {
    "name": "ipython",
    "version": 3
   },
   "file_extension": ".py",
   "mimetype": "text/x-python",
   "name": "python",
   "nbconvert_exporter": "python",
   "pygments_lexer": "ipython3",
   "version": "3.12.3"
  }
 },
 "nbformat": 4,
 "nbformat_minor": 2
}
