{
 "cells": [
  {
   "cell_type": "markdown",
   "metadata": {},
   "source": [
    "# ETL Assignment 1\n"
   ]
  },
  {
   "cell_type": "markdown",
   "metadata": {},
   "source": [
    "### Removing Rows/Columns"
   ]
  },
  {
   "cell_type": "markdown",
   "metadata": {},
   "source": [
    "Removing rows and columns using pandas"
   ]
  },
  {
   "cell_type": "code",
   "execution_count": 56,
   "metadata": {},
   "outputs": [
    {
     "name": "stdout",
     "output_type": "stream",
     "text": [
      "{'id': [1, 2, 3, None, 4, None, None, None, None, 10], 'score': [10, 20, 30, None, None, None, None, None, None, 90]}\n",
      "     id  score\n",
      "0   1.0   10.0\n",
      "1   2.0   20.0\n",
      "2   3.0   30.0\n",
      "3   NaN    NaN\n",
      "4   4.0    NaN\n",
      "5   NaN    NaN\n",
      "6   NaN    NaN\n",
      "7   NaN    NaN\n",
      "8   NaN    NaN\n",
      "9  10.0   90.0\n",
      "     id  score\n",
      "0   1.0   10.0\n",
      "1   2.0   20.0\n",
      "2   3.0   30.0\n",
      "4   4.0    NaN\n",
      "9  10.0   90.0\n",
      "     id\n",
      "0   1.0\n",
      "1   2.0\n",
      "2   3.0\n",
      "3   NaN\n",
      "4   4.0\n",
      "5   NaN\n",
      "6   NaN\n",
      "7   NaN\n",
      "8   NaN\n",
      "9  10.0\n"
     ]
    }
   ],
   "source": [
    "# import libraries\n",
    "import pandas as pd\n",
    "\n",
    "# data\n",
    "data = {'id':[1,2,3,None,4,None,None,None,None, 10], 'score':[10,20,30,None,None,None,None,None,None, 90]}\n",
    "print(data)\n",
    "\n",
    "# dataframe\n",
    "df = pd.DataFrame(data)\n",
    "print(df)\n",
    "\n",
    "# drop row\n",
    "df_drop_rows = df.dropna(thresh=int(0.5*df.shape[1]), axis=0)\n",
    "\n",
    "# drop column\n",
    "df_drop_columns = df.dropna(thresh=int(0.5*df.shape[0]), axis=1)\n",
    "\n",
    "print(df_drop_rows)\n",
    "print(df_drop_columns)"
   ]
  },
  {
   "cell_type": "markdown",
   "metadata": {},
   "source": [
    "Removing rows and columns using polars"
   ]
  },
  {
   "cell_type": "code",
   "execution_count": null,
   "metadata": {},
   "outputs": [],
   "source": []
  }
 ],
 "metadata": {
  "kernelspec": {
   "display_name": "myenv",
   "language": "python",
   "name": "python3"
  },
  "language_info": {
   "codemirror_mode": {
    "name": "ipython",
    "version": 3
   },
   "file_extension": ".py",
   "mimetype": "text/x-python",
   "name": "python",
   "nbconvert_exporter": "python",
   "pygments_lexer": "ipython3",
   "version": "3.12.3"
  }
 },
 "nbformat": 4,
 "nbformat_minor": 2
}
